{
 "cells": [
  {
   "cell_type": "code",
   "execution_count": 2,
   "metadata": {},
   "outputs": [
    {
     "name": "stderr",
     "output_type": "stream",
     "text": [
      "2023-10-17 21:08:00.170981: E tensorflow/compiler/xla/stream_executor/cuda/cuda_dnn.cc:9342] Unable to register cuDNN factory: Attempting to register factory for plugin cuDNN when one has already been registered\n",
      "2023-10-17 21:08:00.171124: E tensorflow/compiler/xla/stream_executor/cuda/cuda_fft.cc:609] Unable to register cuFFT factory: Attempting to register factory for plugin cuFFT when one has already been registered\n",
      "2023-10-17 21:08:00.173222: E tensorflow/compiler/xla/stream_executor/cuda/cuda_blas.cc:1518] Unable to register cuBLAS factory: Attempting to register factory for plugin cuBLAS when one has already been registered\n",
      "2023-10-17 21:08:00.336563: I tensorflow/core/platform/cpu_feature_guard.cc:182] This TensorFlow binary is optimized to use available CPU instructions in performance-critical operations.\n",
      "To enable the following instructions: AVX2 FMA, in other operations, rebuild TensorFlow with the appropriate compiler flags.\n",
      "2023-10-17 21:08:03.431462: W tensorflow/compiler/tf2tensorrt/utils/py_utils.cc:38] TF-TRT Warning: Could not find TensorRT\n"
     ]
    }
   ],
   "source": [
    "import tensorflow as tf\n",
    "from tensorflow.keras import models, layers\n",
    "import matplotlib.pyplot as plt\n",
    "from IPython.display import HTML"
   ]
  },
  {
   "cell_type": "code",
   "execution_count": 3,
   "metadata": {},
   "outputs": [],
   "source": [
    "BATCH_SIZE = 32\n",
    "IMAGE_SIZE = 256\n",
    "CHANNELS=3\n",
    "EPOCHS=50"
   ]
  },
  {
   "cell_type": "code",
   "execution_count": 4,
   "metadata": {},
   "outputs": [
    {
     "name": "stdout",
     "output_type": "stream",
     "text": [
      "Found 2152 files belonging to 3 classes.\n"
     ]
    },
    {
     "name": "stderr",
     "output_type": "stream",
     "text": [
      "2023-10-17 21:08:10.919139: E tensorflow/compiler/xla/stream_executor/cuda/cuda_driver.cc:268] failed call to cuInit: CUDA_ERROR_NO_DEVICE: no CUDA-capable device is detected\n"
     ]
    }
   ],
   "source": [
    "\n",
    "dataset = tf.keras.preprocessing.image_dataset_from_directory(\n",
    "    \"PlantVillage\",\n",
    "    seed=123,\n",
    "    shuffle=True,\n",
    "    image_size=(IMAGE_SIZE,IMAGE_SIZE),\n",
    "    batch_size=BATCH_SIZE\n",
    ")"
   ]
  },
  {
   "cell_type": "code",
   "execution_count": 5,
   "metadata": {},
   "outputs": [
    {
     "data": {
      "text/plain": [
       "['Potato___Early_blight', 'Potato___Late_blight', 'Potato___healthy']"
      ]
     },
     "execution_count": 5,
     "metadata": {},
     "output_type": "execute_result"
    }
   ],
   "source": [
    "class_names = dataset.class_names\n",
    "class_names"
   ]
  },
  {
   "cell_type": "code",
   "execution_count": 6,
   "metadata": {},
   "outputs": [
    {
     "name": "stdout",
     "output_type": "stream",
     "text": [
      "(32, 256, 256, 3)\n",
      "[1 1 1 0 0 0 0 0 1 1 1 1 0 1 0 1 1 1 0 1 0 1 0 0 1 0 0 1 1 2 0 0]\n"
     ]
    }
   ],
   "source": [
    "for image_batch, labels_batch in dataset.take(1):\n",
    "    print(image_batch.shape)\n",
    "    print(labels_batch.numpy())"
   ]
  },
  {
   "cell_type": "code",
   "execution_count": 7,
   "metadata": {},
   "outputs": [
    {
     "data": {
      "text/plain": [
       "54"
      ]
     },
     "execution_count": 7,
     "metadata": {},
     "output_type": "execute_result"
    }
   ],
   "source": [
    "train_ds = dataset.take(54)\n",
    "len(train_ds)"
   ]
  },
  {
   "cell_type": "code",
   "execution_count": 8,
   "metadata": {},
   "outputs": [
    {
     "data": {
      "text/plain": [
       "14"
      ]
     },
     "execution_count": 8,
     "metadata": {},
     "output_type": "execute_result"
    }
   ],
   "source": [
    "test_ds = dataset.skip(54)\n",
    "len(test_ds)"
   ]
  },
  {
   "cell_type": "code",
   "execution_count": 9,
   "metadata": {},
   "outputs": [
    {
     "data": {
      "text/plain": [
       "6.800000000000001"
      ]
     },
     "execution_count": 9,
     "metadata": {},
     "output_type": "execute_result"
    }
   ],
   "source": [
    "val_size=0.1\n",
    "len(dataset)*val_size"
   ]
  },
  {
   "cell_type": "code",
   "execution_count": 10,
   "metadata": {},
   "outputs": [
    {
     "data": {
      "text/plain": [
       "6"
      ]
     },
     "execution_count": 10,
     "metadata": {},
     "output_type": "execute_result"
    }
   ],
   "source": [
    "val_ds = test_ds.take(6)\n",
    "len(val_ds)"
   ]
  },
  {
   "cell_type": "code",
   "execution_count": 11,
   "metadata": {},
   "outputs": [
    {
     "data": {
      "text/plain": [
       "8"
      ]
     },
     "execution_count": 11,
     "metadata": {},
     "output_type": "execute_result"
    }
   ],
   "source": [
    "test_ds = test_ds.skip(6)\n",
    "len(test_ds)"
   ]
  },
  {
   "cell_type": "code",
   "execution_count": 13,
   "metadata": {},
   "outputs": [],
   "source": [
    "train_ds = train_ds.cache().shuffle(1000).prefetch(buffer_size=tf.data.AUTOTUNE)\n",
    "val_ds = val_ds.cache().shuffle(1000).prefetch(buffer_size=tf.data.AUTOTUNE)\n",
    "test_ds = test_ds.cache().shuffle(1000).prefetch(buffer_size=tf.data.AUTOTUNE)"
   ]
  },
  {
   "cell_type": "code",
   "execution_count": 14,
   "metadata": {},
   "outputs": [],
   "source": [
    "resize_and_rescale = tf.keras.Sequential([\n",
    "  layers.experimental.preprocessing.Resizing(IMAGE_SIZE, IMAGE_SIZE),\n",
    "  layers.experimental.preprocessing.Rescaling(1./255),\n",
    "])"
   ]
  },
  {
   "cell_type": "code",
   "execution_count": 15,
   "metadata": {},
   "outputs": [],
   "source": [
    "data_augmentation = tf.keras.Sequential([\n",
    "  layers.experimental.preprocessing.RandomFlip(\"horizontal_and_vertical\"),\n",
    "  layers.experimental.preprocessing.RandomRotation(0.2),\n",
    "])"
   ]
  },
  {
   "cell_type": "code",
   "execution_count": 16,
   "metadata": {},
   "outputs": [],
   "source": [
    "input_shape = (BATCH_SIZE, IMAGE_SIZE, IMAGE_SIZE, CHANNELS)\n",
    "n_classes = 3\n",
    "\n",
    "model = models.Sequential([\n",
    "    resize_and_rescale,\n",
    "    data_augmentation,\n",
    "    layers.Conv2D(32, kernel_size = (3,3), activation='relu', input_shape=input_shape),\n",
    "    layers.MaxPooling2D((2, 2)),\n",
    "    layers.Conv2D(64,  kernel_size = (3,3), activation='relu'),\n",
    "    layers.MaxPooling2D((2, 2)),\n",
    "    layers.Conv2D(64,  kernel_size = (3,3), activation='relu'),\n",
    "    layers.MaxPooling2D((2, 2)),\n",
    "    layers.Conv2D(64, (3, 3), activation='relu'),\n",
    "    layers.MaxPooling2D((2, 2)),\n",
    "    layers.Conv2D(64, (3, 3), activation='relu'),\n",
    "    layers.MaxPooling2D((2, 2)),\n",
    "    layers.Conv2D(64, (3, 3), activation='relu'),\n",
    "    layers.MaxPooling2D((2, 2)),\n",
    "    layers.Flatten(),\n",
    "    layers.Dense(64, activation='relu'),\n",
    "    layers.Dense(n_classes, activation='softmax'),\n",
    "])\n",
    "\n",
    "model.build(input_shape=input_shape)"
   ]
  },
  {
   "cell_type": "code",
   "execution_count": 17,
   "metadata": {},
   "outputs": [],
   "source": [
    "model.compile(\n",
    "    optimizer='adam',\n",
    "    loss=tf.keras.losses.SparseCategoricalCrossentropy(from_logits=False),\n",
    "    metrics=['accuracy']\n",
    ")\n"
   ]
  },
  {
   "cell_type": "code",
   "execution_count": 18,
   "metadata": {},
   "outputs": [
    {
     "name": "stdout",
     "output_type": "stream",
     "text": [
      "Epoch 1/50\n",
      "54/54 [==============================] - 53s 950ms/step - loss: 0.9115 - accuracy: 0.4734 - val_loss: 0.7911 - val_accuracy: 0.4948\n",
      "Epoch 2/50\n",
      "54/54 [==============================] - 51s 942ms/step - loss: 0.7137 - accuracy: 0.6568 - val_loss: 0.5386 - val_accuracy: 0.7448\n",
      "Epoch 3/50\n",
      "54/54 [==============================] - 50s 932ms/step - loss: 0.4743 - accuracy: 0.7830 - val_loss: 0.4078 - val_accuracy: 0.8229\n",
      "Epoch 4/50\n",
      "54/54 [==============================] - 50s 930ms/step - loss: 0.4075 - accuracy: 0.8235 - val_loss: 0.2272 - val_accuracy: 0.9167\n",
      "Epoch 5/50\n",
      "54/54 [==============================] - 50s 933ms/step - loss: 0.2939 - accuracy: 0.8860 - val_loss: 0.2147 - val_accuracy: 0.9115\n",
      "Epoch 6/50\n",
      "54/54 [==============================] - 50s 929ms/step - loss: 0.2509 - accuracy: 0.8993 - val_loss: 0.4344 - val_accuracy: 0.8333\n",
      "Epoch 7/50\n",
      "54/54 [==============================] - 51s 938ms/step - loss: 0.2193 - accuracy: 0.9149 - val_loss: 0.2124 - val_accuracy: 0.9062\n",
      "Epoch 8/50\n",
      "54/54 [==============================] - 50s 929ms/step - loss: 0.2257 - accuracy: 0.9103 - val_loss: 0.1878 - val_accuracy: 0.9323\n",
      "Epoch 9/50\n",
      "54/54 [==============================] - 50s 932ms/step - loss: 0.1766 - accuracy: 0.9277 - val_loss: 0.0928 - val_accuracy: 0.9583\n",
      "Epoch 10/50\n",
      "54/54 [==============================] - 50s 931ms/step - loss: 0.1692 - accuracy: 0.9381 - val_loss: 0.1064 - val_accuracy: 0.9635\n",
      "Epoch 11/50\n",
      "54/54 [==============================] - 50s 931ms/step - loss: 0.1502 - accuracy: 0.9450 - val_loss: 0.1174 - val_accuracy: 0.9479\n",
      "Epoch 12/50\n",
      "54/54 [==============================] - 50s 932ms/step - loss: 0.1791 - accuracy: 0.9265 - val_loss: 0.2060 - val_accuracy: 0.9115\n",
      "Epoch 13/50\n",
      "54/54 [==============================] - 50s 934ms/step - loss: 0.1290 - accuracy: 0.9497 - val_loss: 0.0879 - val_accuracy: 0.9635\n",
      "Epoch 14/50\n",
      "54/54 [==============================] - 50s 931ms/step - loss: 0.1219 - accuracy: 0.9566 - val_loss: 0.0858 - val_accuracy: 0.9688\n",
      "Epoch 15/50\n",
      "54/54 [==============================] - 50s 934ms/step - loss: 0.1119 - accuracy: 0.9595 - val_loss: 0.1410 - val_accuracy: 0.9375\n",
      "Epoch 16/50\n",
      "54/54 [==============================] - 52s 965ms/step - loss: 0.1452 - accuracy: 0.9502 - val_loss: 0.2426 - val_accuracy: 0.8906\n",
      "Epoch 17/50\n",
      "54/54 [==============================] - 51s 936ms/step - loss: 0.1583 - accuracy: 0.9375 - val_loss: 0.0983 - val_accuracy: 0.9688\n",
      "Epoch 18/50\n",
      "54/54 [==============================] - 51s 937ms/step - loss: 0.1136 - accuracy: 0.9583 - val_loss: 0.0734 - val_accuracy: 0.9635\n",
      "Epoch 19/50\n",
      "54/54 [==============================] - 50s 934ms/step - loss: 0.0998 - accuracy: 0.9612 - val_loss: 0.0953 - val_accuracy: 0.9583\n",
      "Epoch 20/50\n",
      "54/54 [==============================] - 51s 939ms/step - loss: 0.1058 - accuracy: 0.9647 - val_loss: 0.0578 - val_accuracy: 0.9896\n",
      "Epoch 21/50\n",
      "54/54 [==============================] - 51s 938ms/step - loss: 0.1167 - accuracy: 0.9595 - val_loss: 0.1180 - val_accuracy: 0.9688\n",
      "Epoch 22/50\n",
      "54/54 [==============================] - 51s 936ms/step - loss: 0.1008 - accuracy: 0.9606 - val_loss: 0.0614 - val_accuracy: 0.9792\n",
      "Epoch 23/50\n",
      "54/54 [==============================] - 51s 937ms/step - loss: 0.0943 - accuracy: 0.9630 - val_loss: 0.0432 - val_accuracy: 0.9896\n",
      "Epoch 24/50\n",
      "54/54 [==============================] - 50s 933ms/step - loss: 0.0499 - accuracy: 0.9815 - val_loss: 0.0437 - val_accuracy: 0.9844\n",
      "Epoch 25/50\n",
      "54/54 [==============================] - 50s 934ms/step - loss: 0.0650 - accuracy: 0.9769 - val_loss: 0.0340 - val_accuracy: 0.9844\n",
      "Epoch 26/50\n",
      "54/54 [==============================] - 51s 942ms/step - loss: 0.0786 - accuracy: 0.9705 - val_loss: 0.0771 - val_accuracy: 0.9740\n",
      "Epoch 27/50\n",
      "54/54 [==============================] - 50s 933ms/step - loss: 0.1092 - accuracy: 0.9676 - val_loss: 0.1222 - val_accuracy: 0.9531\n",
      "Epoch 28/50\n",
      "54/54 [==============================] - 51s 937ms/step - loss: 0.0792 - accuracy: 0.9693 - val_loss: 0.0589 - val_accuracy: 0.9740\n",
      "Epoch 29/50\n",
      "54/54 [==============================] - 51s 937ms/step - loss: 0.0388 - accuracy: 0.9850 - val_loss: 0.0411 - val_accuracy: 0.9792\n",
      "Epoch 30/50\n",
      "54/54 [==============================] - 51s 938ms/step - loss: 0.0723 - accuracy: 0.9728 - val_loss: 0.1676 - val_accuracy: 0.9271\n",
      "Epoch 31/50\n",
      "54/54 [==============================] - 51s 938ms/step - loss: 0.0483 - accuracy: 0.9838 - val_loss: 0.0661 - val_accuracy: 0.9635\n",
      "Epoch 32/50\n",
      "54/54 [==============================] - 51s 943ms/step - loss: 0.0561 - accuracy: 0.9815 - val_loss: 0.0332 - val_accuracy: 0.9844\n",
      "Epoch 33/50\n",
      "54/54 [==============================] - 51s 940ms/step - loss: 0.0269 - accuracy: 0.9878 - val_loss: 0.1105 - val_accuracy: 0.9531\n",
      "Epoch 34/50\n",
      "54/54 [==============================] - 51s 938ms/step - loss: 0.0320 - accuracy: 0.9890 - val_loss: 0.0717 - val_accuracy: 0.9792\n",
      "Epoch 35/50\n",
      "54/54 [==============================] - 51s 939ms/step - loss: 0.0360 - accuracy: 0.9873 - val_loss: 0.0541 - val_accuracy: 0.9740\n",
      "Epoch 36/50\n",
      "54/54 [==============================] - 51s 940ms/step - loss: 0.0440 - accuracy: 0.9855 - val_loss: 0.0217 - val_accuracy: 0.9948\n",
      "Epoch 37/50\n",
      "54/54 [==============================] - 51s 940ms/step - loss: 0.0428 - accuracy: 0.9855 - val_loss: 0.4334 - val_accuracy: 0.8750\n",
      "Epoch 38/50\n",
      "54/54 [==============================] - 50s 926ms/step - loss: 0.0605 - accuracy: 0.9792 - val_loss: 0.2271 - val_accuracy: 0.9167\n",
      "Epoch 39/50\n",
      "54/54 [==============================] - 50s 917ms/step - loss: 0.0260 - accuracy: 0.9919 - val_loss: 0.0480 - val_accuracy: 0.9792\n",
      "Epoch 40/50\n",
      "54/54 [==============================] - 50s 935ms/step - loss: 0.0276 - accuracy: 0.9931 - val_loss: 0.0443 - val_accuracy: 0.9844\n",
      "Epoch 41/50\n",
      "54/54 [==============================] - 51s 939ms/step - loss: 0.0231 - accuracy: 0.9896 - val_loss: 0.0245 - val_accuracy: 0.9948\n",
      "Epoch 42/50\n",
      "54/54 [==============================] - 51s 938ms/step - loss: 0.0449 - accuracy: 0.9815 - val_loss: 0.0308 - val_accuracy: 0.9896\n",
      "Epoch 43/50\n",
      "54/54 [==============================] - 51s 937ms/step - loss: 0.0208 - accuracy: 0.9942 - val_loss: 0.0072 - val_accuracy: 1.0000\n",
      "Epoch 44/50\n",
      "54/54 [==============================] - 51s 936ms/step - loss: 0.0281 - accuracy: 0.9878 - val_loss: 0.0468 - val_accuracy: 0.9844\n",
      "Epoch 45/50\n",
      "54/54 [==============================] - 50s 922ms/step - loss: 0.0287 - accuracy: 0.9913 - val_loss: 0.0814 - val_accuracy: 0.9740\n",
      "Epoch 46/50\n",
      "54/54 [==============================] - 51s 939ms/step - loss: 0.0227 - accuracy: 0.9931 - val_loss: 0.0668 - val_accuracy: 0.9792\n",
      "Epoch 47/50\n",
      "54/54 [==============================] - 50s 934ms/step - loss: 0.0123 - accuracy: 0.9948 - val_loss: 0.0365 - val_accuracy: 0.9896\n",
      "Epoch 48/50\n",
      "54/54 [==============================] - 50s 933ms/step - loss: 0.0160 - accuracy: 0.9931 - val_loss: 0.0348 - val_accuracy: 0.9948\n",
      "Epoch 49/50\n",
      "54/54 [==============================] - 50s 928ms/step - loss: 0.0470 - accuracy: 0.9850 - val_loss: 0.0201 - val_accuracy: 0.9948\n",
      "Epoch 50/50\n",
      "54/54 [==============================] - 50s 933ms/step - loss: 0.0275 - accuracy: 0.9925 - val_loss: 0.1909 - val_accuracy: 0.9375\n"
     ]
    }
   ],
   "source": [
    "history = model.fit(\n",
    "    train_ds,\n",
    "    batch_size=BATCH_SIZE,\n",
    "    validation_data=val_ds,\n",
    "    verbose=1,\n",
    "    epochs=50,\n",
    ")"
   ]
  },
  {
   "cell_type": "code",
   "execution_count": 19,
   "metadata": {},
   "outputs": [
    {
     "name": "stdout",
     "output_type": "stream",
     "text": [
      "8/8 [==============================] - 2s 205ms/step - loss: 0.1897 - accuracy: 0.9310\n"
     ]
    }
   ],
   "source": [
    "scores = model.evaluate(test_ds)"
   ]
  },
  {
   "cell_type": "code",
   "execution_count": 20,
   "metadata": {},
   "outputs": [
    {
     "data": {
      "text/plain": [
       "[0.18974897265434265, 0.931034505367279]"
      ]
     },
     "execution_count": 20,
     "metadata": {},
     "output_type": "execute_result"
    }
   ],
   "source": [
    "scores"
   ]
  },
  {
   "cell_type": "code",
   "execution_count": 24,
   "metadata": {},
   "outputs": [
    {
     "name": "stdout",
     "output_type": "stream",
     "text": [
      "INFO:tensorflow:Assets written to: ./saved_models/2/assets\n"
     ]
    },
    {
     "name": "stderr",
     "output_type": "stream",
     "text": [
      "INFO:tensorflow:Assets written to: ./saved_models/2/assets\n"
     ]
    }
   ],
   "source": [
    "import os\n",
    "model_version=max([int(i) for i in os.listdir(\"./saved_models\") + [0]])+1\n",
    "model.save(f\"./saved_models/{model_version}\")"
   ]
  },
  {
   "cell_type": "code",
   "execution_count": null,
   "metadata": {},
   "outputs": [],
   "source": []
  }
 ],
 "metadata": {
  "kernelspec": {
   "display_name": "tf",
   "language": "python",
   "name": "python3"
  },
  "language_info": {
   "codemirror_mode": {
    "name": "ipython",
    "version": 3
   },
   "file_extension": ".py",
   "mimetype": "text/x-python",
   "name": "python",
   "nbconvert_exporter": "python",
   "pygments_lexer": "ipython3",
   "version": "3.9.18"
  }
 },
 "nbformat": 4,
 "nbformat_minor": 2
}
